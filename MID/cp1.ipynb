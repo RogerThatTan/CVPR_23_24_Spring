{
 "cells": [
  {
   "cell_type": "markdown",
   "id": "6fb3f7db-7a0e-4072-830a-4b0604f63818",
   "metadata": {},
   "source": [
    "## List Operations:"
   ]
  },
  {
   "cell_type": "code",
   "execution_count": 36,
   "id": "a2c2ecee-2b2a-4ace-894a-40849e1c27a3",
   "metadata": {},
   "outputs": [
    {
     "name": "stdout",
     "output_type": "stream",
     "text": [
      "[1, 2, 3, 4, 5, 6, 7, 8, 9, 10, 1, 4, 9, 16, 25, 36, 49, 64, 81, 100]\n"
     ]
    }
   ],
   "source": [
    "numbers = [1,2,3,4,5,6,7,8,9,10]\n",
    "square_num = [num**2 for num in numbers] #List element will be sqaured\n",
    "for num in square_num:\n",
    "    numbers.append(num)                  #Squared number will be appened into the list\n",
    "print(numbers)"
   ]
  },
  {
   "cell_type": "code",
   "execution_count": 26,
   "id": "8fcfe656-9d86-489d-bd84-512595d2a551",
   "metadata": {},
   "outputs": [
    {
     "name": "stdout",
     "output_type": "stream",
     "text": [
      "Sum of all element: 440\n"
     ]
    }
   ],
   "source": [
    "print(f'Sum of all element: {sum(numbers)}')"
   ]
  },
  {
   "cell_type": "markdown",
   "id": "2ac7baa0-d7f8-4236-b3d1-2b503b26e945",
   "metadata": {},
   "source": [
    "## Tuple Operations:"
   ]
  },
  {
   "cell_type": "code",
   "execution_count": 37,
   "id": "84db7402-9f5b-454d-a7f4-3dfe84c9327b",
   "metadata": {},
   "outputs": [
    {
     "name": "stdout",
     "output_type": "stream",
     "text": [
      "The product of all element in the even number tuple: 3840\n"
     ]
    }
   ],
   "source": [
    "even_num = (2,4,6,8,10)\n",
    "product = 1\n",
    "for num in even_num:\n",
    "    product *= num    #Multiplying the currrent value of product by the current element\n",
    "print(f'The product of all element in the even number tuple: {product}')"
   ]
  },
  {
   "cell_type": "markdown",
   "id": "1b4b77fd-c742-4081-b622-0790e10b9d6c",
   "metadata": {},
   "source": [
    "## Set Operations:"
   ]
  },
  {
   "cell_type": "code",
   "execution_count": 38,
   "id": "1991c0ef-47ea-485a-9efb-3e9d8bb1eeb4",
   "metadata": {},
   "outputs": [
    {
     "name": "stdout",
     "output_type": "stream",
     "text": [
      "The union of the two sets: {1, 3, 5, 7, 9}\n",
      "The intersection of the two sets: {1, 3, 5, 7, 9}\n"
     ]
    }
   ],
   "source": [
    "set_1 = {1,3,5,7,9}\n",
    "set_2 = {1,3,5,7,9}\n",
    "union = set_1.union(set_2)  #taking the union of two set\n",
    "intersection = set_1.intersection(set_2) #taking the intersection of two set\n",
    "print(f'The union of the two sets: {union}')\n",
    "print(f'The intersection of the two sets: {intersection}')"
   ]
  },
  {
   "cell_type": "markdown",
   "id": "60b5ecbb-a17f-4084-8531-407575ffc207",
   "metadata": {},
   "source": [
    "## Dictionary Operations:"
   ]
  },
  {
   "cell_type": "code",
   "execution_count": 33,
   "id": "7e9d5e43-083f-4fe8-bebe-6d67853d9fba",
   "metadata": {},
   "outputs": [
    {
     "name": "stdout",
     "output_type": "stream",
     "text": [
      "{'a': 97, 'b': 98, 'c': 99, 'd': 100, 'e': 101}\n"
     ]
    }
   ],
   "source": [
    "dict ={\n",
    "    \n",
    "    'a':97,\n",
    "    'b':98,\n",
    "    'c':99,\n",
    "    'd':100,\n",
    "    'e':101\n",
    "}\n",
    "print(dict)"
   ]
  },
  {
   "cell_type": "markdown",
   "id": "bc93b791-f5cd-4cec-b890-7cb9bb17b263",
   "metadata": {},
   "source": [
    "## Functional Programming:"
   ]
  },
  {
   "cell_type": "code",
   "execution_count": 39,
   "id": "2529a546-adc3-4431-9396-6f5fa0388b9e",
   "metadata": {},
   "outputs": [
    {
     "name": "stdout",
     "output_type": "stream",
     "text": [
      "The squared numbers are: [1, 4, 9, 16, 25, 36, 49, 64, 81, 100]\n"
     ]
    }
   ],
   "source": [
    "def square(x):\n",
    "    return x**2\n",
    "numbers = [1,2,3,4,5,6,7,8,9,10]\n",
    "print(f'The squared numbers are: {list(map(square,numbers))}') #printing the result with map function that applies sqaure func to each element"
   ]
  }
 ],
 "metadata": {
  "kernelspec": {
   "display_name": "cvpr",
   "language": "python",
   "name": "cvpr"
  },
  "language_info": {
   "codemirror_mode": {
    "name": "ipython",
    "version": 3
   },
   "file_extension": ".py",
   "mimetype": "text/x-python",
   "name": "python",
   "nbconvert_exporter": "python",
   "pygments_lexer": "ipython3",
   "version": "3.10.13"
  },
  "widgets": {
   "application/vnd.jupyter.widget-state+json": {
    "state": {},
    "version_major": 2,
    "version_minor": 0
   }
  }
 },
 "nbformat": 4,
 "nbformat_minor": 5
}
